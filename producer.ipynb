{
 "cells": [
  {
   "cell_type": "code",
   "execution_count": 1,
   "id": "f652224b",
   "metadata": {},
   "outputs": [],
   "source": [
    "from kafka import KafkaProducer\n",
    "import json\n",
    "producer = KafkaProducer(bootstrap_servers = \"127.0.0.1:9092\")\n",
    "i = 0 \n",
    "with open(\"E:/AMOD_5410H_Big_Data/Term_Project/creditcard.csv\") as fp:\n",
    "    for line in fp:\n",
    "        i+=1\n",
    "        if i == 3001:\n",
    "            break;\n",
    "        lineData = json.dumps(line)\n",
    "        producer.send(\"TestTopic\",lineData.encode('utf-8'))\n",
    "\n"
   ]
  },
  {
   "cell_type": "code",
   "execution_count": null,
   "id": "b8d92bbf",
   "metadata": {},
   "outputs": [],
   "source": []
  }
 ],
 "metadata": {
  "kernelspec": {
   "display_name": "Python 3 (ipykernel)",
   "language": "python",
   "name": "python3"
  },
  "language_info": {
   "codemirror_mode": {
    "name": "ipython",
    "version": 3
   },
   "file_extension": ".py",
   "mimetype": "text/x-python",
   "name": "python",
   "nbconvert_exporter": "python",
   "pygments_lexer": "ipython3",
   "version": "3.9.7"
  }
 },
 "nbformat": 4,
 "nbformat_minor": 5
}
